{
 "cells": [
  {
   "cell_type": "code",
   "execution_count": 1,
   "id": "8c532617",
   "metadata": {},
   "outputs": [
    {
     "name": "stdout",
     "output_type": "stream",
     "text": [
      "Notebook init: PROJECT_ROOT=c:\\Users\\dmasu\\OneDrive\\デスクトップ\\pcdh_analyze\n",
      "準備完了！\n",
      "データ入力ディレクトリ: G:\\マイドライブ\\ALL_EEG_pcdh15\n",
      "データ出力ディレクトリ: C:\\Users\\dmasu\\OneDrive\\デスクトップ\\pcdh_analyze\\data\\processed\n"
     ]
    }
   ],
   "source": [
    "import sys\n",
    "from pathlib import Path\n",
    "\n",
    "# initialize notebook environment\n",
    "import _init_notebook\n",
    "# srcから必要な関数と設定値をインポート\n",
    "from src.data_processing import create_processed_file\n",
    "from src.config import DATA_DIR, PROCESSED_DIR\n",
    "\n",
    "print(\"準備完了！\")\n",
    "print(f\"データ入力ディレクトリ: {DATA_DIR}\")\n",
    "print(f\"データ出力ディレクトリ: {PROCESSED_DIR}\")"
   ]
  },
  {
   "cell_type": "code",
   "execution_count": 2,
   "id": "f66671ef",
   "metadata": {},
   "outputs": [
    {
     "name": "stdout",
     "output_type": "stream",
     "text": [
      "処理対象ファイル: 'wt262avs.adicht_rec2.npy'\n"
     ]
    }
   ],
   "source": [
    "# --- ▼▼▼ 設定 ▼▼▼ ---\n",
    "\n",
    "# ここで処理したいファイル名を指定してください\n",
    "target_filename = 'wt262avs.adicht_rec2.npy'\n",
    "\n",
    "# --- ▲▲▲ 設定 ▲▲▲ ---\n",
    "\n",
    "print(f\"処理対象ファイル: '{target_filename}'\")"
   ]
  },
  {
   "cell_type": "code",
   "execution_count": 4,
   "id": "563c53e3",
   "metadata": {},
   "outputs": [
    {
     "name": "stderr",
     "output_type": "stream",
     "text": [
      "2025-10-25 19:47:30,304 - INFO - Processing 'wt262avs.adicht_rec2.npy' -> 'wt262avs.adicht_rec2.parquet'\n"
     ]
    },
    {
     "name": "stdout",
     "output_type": "stream",
     "text": [
      "'wt262avs.adicht_rec2.npy' の処理を開始します...\n"
     ]
    },
    {
     "name": "stderr",
     "output_type": "stream",
     "text": [
      "c:\\Users\\dmasu\\OneDrive\\デスクトップ\\pcdh_analyze\\src\\data_processing.py:96: FutureWarning: Downcasting object dtype arrays on .fillna, .ffill, .bfill is deprecated and will change in a future version. Call result.infer_objects(copy=False) instead. To opt-in to the future behavior, set `pd.set_option('future.no_silent_downcasting', True)`\n",
      "  stim_starts = is_stim_on & ~is_stim_on.shift(1).fillna(False)\n",
      "2025-10-25 19:47:44,574 - INFO - Saved processed data to wt262avs.adicht_rec2.parquet (ID: 262, Genotype: WT)\n"
     ]
    },
    {
     "name": "stdout",
     "output_type": "stream",
     "text": [
      "\n",
      "処理が完了しました！ ✨\n"
     ]
    }
   ],
   "source": [
    "# 処理済みデータを保存するディレクトリがなければ作成\n",
    "PROCESSED_DIR.mkdir(parents=True, exist_ok=True)\n",
    "\n",
    "print(f\"'{target_filename}' の処理を開始します...\")\n",
    "\n",
    "# 処理対象ファイルのフルパスを作成\n",
    "target_filepath = DATA_DIR / target_filename\n",
    "\n",
    "# ファイルが存在するかチェック\n",
    "if not target_filepath.exists():\n",
    "    print(f\"[エラー] ファイルが見つかりません: {target_filepath}\")\n",
    "else:\n",
    "    # 指定したファイル一つだけを処理\n",
    "    create_processed_file(target_filename, PROCESSED_DIR)\n",
    "    print(\"\\n処理が完了しました！ ✨\")"
   ]
  }
 ],
 "metadata": {
  "kernelspec": {
   "display_name": "Python (pcdh-analyze)",
   "language": "python",
   "name": "pcdh-venv"
  },
  "language_info": {
   "codemirror_mode": {
    "name": "ipython",
    "version": 3
   },
   "file_extension": ".py",
   "mimetype": "text/x-python",
   "name": "python",
   "nbconvert_exporter": "python",
   "pygments_lexer": "ipython3",
   "version": "3.11.9"
  }
 },
 "nbformat": 4,
 "nbformat_minor": 5
}
