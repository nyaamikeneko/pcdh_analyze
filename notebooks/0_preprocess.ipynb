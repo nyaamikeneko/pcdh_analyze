{
 "cells": [
  {
   "cell_type": "code",
   "execution_count": 5,
   "id": "8c532617",
   "metadata": {},
   "outputs": [
    {
     "name": "stdout",
     "output_type": "stream",
     "text": [
      "準備完了！\n",
      "データ入力ディレクトリ: G:\\マイドライブ\\ALL_EEG_pcdh15\n",
      "データ出力ディレクトリ: C:\\Users\\dmasu\\OneDrive\\デスクトップ\\pcdh_analyze\\data\\processed\n"
     ]
    }
   ],
   "source": [
    "import sys\n",
    "from pathlib import Path\n",
    "\n",
    "# initialize notebook environment\n",
    "import _init_notebook\n",
    "# srcから必要な関数と設定値をインポート\n",
    "from src.data_processing import create_processed_file\n",
    "from src.config import DATA_DIR, PROCESSED_DIR\n",
    "\n",
    "print(\"準備完了！\")\n",
    "print(f\"データ入力ディレクトリ: {DATA_DIR}\")\n",
    "print(f\"データ出力ディレクトリ: {PROCESSED_DIR}\")"
   ]
  },
  {
   "cell_type": "code",
   "execution_count": 18,
   "id": "f66671ef",
   "metadata": {},
   "outputs": [
    {
     "name": "stdout",
     "output_type": "stream",
     "text": [
      "処理対象ファイル: '265wt-rest-avs-2recs.adicht1_rec2.npy'\n"
     ]
    }
   ],
   "source": [
    "# --- ▼▼▼ 設定 ▼▼▼ ---\n",
    "\n",
    "# ここで処理したいファイル名を指定してください\n",
    "target_filename = '265wt-rest-avs-2recs.adicht1_rec2.npy'\n",
    "\n",
    "# --- ▲▲▲ 設定 ▲▲▲ ---\n",
    "\n",
    "print(f\"処理対象ファイル: '{target_filename}'\")"
   ]
  },
  {
   "cell_type": "code",
   "execution_count": 19,
   "id": "563c53e3",
   "metadata": {},
   "outputs": [
    {
     "name": "stderr",
     "output_type": "stream",
     "text": [
      "2025-10-26 16:44:14,245 - INFO - Processing '265wt-rest-avs-2recs.adicht1_rec2.npy' -> '265wt-rest-avs-2recs.adicht1_rec2.parquet'\n"
     ]
    },
    {
     "name": "stdout",
     "output_type": "stream",
     "text": [
      "'265wt-rest-avs-2recs.adicht1_rec2.npy' の処理を開始します...\n"
     ]
    },
    {
     "name": "stderr",
     "output_type": "stream",
     "text": [
      "c:\\Users\\dmasu\\OneDrive\\デスクトップ\\pcdh_analyze\\src\\data_processing.py:96: FutureWarning: Downcasting object dtype arrays on .fillna, .ffill, .bfill is deprecated and will change in a future version. Call result.infer_objects(copy=False) instead. To opt-in to the future behavior, set `pd.set_option('future.no_silent_downcasting', True)`\n",
      "  stim_starts = is_stim_on & ~is_stim_on.shift(1).fillna(False)\n",
      "2025-10-26 16:44:43,087 - INFO - Saved processed data to 265wt-rest-avs-2recs.adicht1_rec2.parquet (ID: 265, Genotype: WT)\n"
     ]
    },
    {
     "name": "stdout",
     "output_type": "stream",
     "text": [
      "\n",
      "処理が完了しました！ ✨\n"
     ]
    }
   ],
   "source": [
    "# 処理済みデータを保存するディレクトリがなければ作成\n",
    "PROCESSED_DIR.mkdir(parents=True, exist_ok=True)\n",
    "\n",
    "print(f\"'{target_filename}' の処理を開始します...\")\n",
    "\n",
    "# 処理対象ファイルのフルパスを作成\n",
    "target_filepath = DATA_DIR / target_filename\n",
    "\n",
    "# ファイルが存在するかチェック\n",
    "if not target_filepath.exists():\n",
    "    print(f\"[エラー] ファイルが見つかりません: {target_filepath}\")\n",
    "else:\n",
    "    # 指定したファイル一つだけを処理\n",
    "    create_processed_file(target_filename, PROCESSED_DIR)\n",
    "    print(\"\\n処理が完了しました！ ✨\")"
   ]
  },
  {
   "cell_type": "code",
   "execution_count": 10,
   "id": "1c39cd88",
   "metadata": {},
   "outputs": [
    {
     "name": "stderr",
     "output_type": "stream",
     "text": [
      "2025-10-26 15:08:12,050 - INFO - Processing '256wtvas.adicht_rec2.npy' -> '256wtvas.adicht_rec2.parquet'\n"
     ]
    },
    {
     "name": "stdout",
     "output_type": "stream",
     "text": [
      "処理を開始します。対象ファイル数: 16\n",
      "---\n",
      "'197hetERP.adict_rec2.npy' の処理を開始します...\n",
      "  [エラー] ファイルが見つかりません: G:\\マイドライブ\\ALL_EEG_pcdh15\\197hetERP.adict_rec2.npy\n",
      "---\n",
      "'256wtvas.adicht_rec2.npy' の処理を開始します...\n"
     ]
    },
    {
     "name": "stderr",
     "output_type": "stream",
     "text": [
      "c:\\Users\\dmasu\\OneDrive\\デスクトップ\\pcdh_analyze\\src\\data_processing.py:96: FutureWarning: Downcasting object dtype arrays on .fillna, .ffill, .bfill is deprecated and will change in a future version. Call result.infer_objects(copy=False) instead. To opt-in to the future behavior, set `pd.set_option('future.no_silent_downcasting', True)`\n",
      "  stim_starts = is_stim_on & ~is_stim_on.shift(1).fillna(False)\n",
      "2025-10-26 15:08:50,225 - INFO - Saved processed data to 256wtvas.adicht_rec2.parquet (ID: 256, Genotype: WT)\n",
      "2025-10-26 15:08:50,702 - INFO - Processing '263hetavs.adicht_rec2.npy' -> '263hetavs.adicht_rec2.parquet'\n"
     ]
    },
    {
     "name": "stdout",
     "output_type": "stream",
     "text": [
      "  '256wtvas.adicht_rec2.npy' の処理が完了しました。\n",
      "---\n",
      "'263hetavs.adicht_rec2.npy' の処理を開始します...\n"
     ]
    },
    {
     "name": "stderr",
     "output_type": "stream",
     "text": [
      "c:\\Users\\dmasu\\OneDrive\\デスクトップ\\pcdh_analyze\\src\\data_processing.py:96: FutureWarning: Downcasting object dtype arrays on .fillna, .ffill, .bfill is deprecated and will change in a future version. Call result.infer_objects(copy=False) instead. To opt-in to the future behavior, set `pd.set_option('future.no_silent_downcasting', True)`\n",
      "  stim_starts = is_stim_on & ~is_stim_on.shift(1).fillna(False)\n",
      "2025-10-26 15:09:42,332 - INFO - Saved processed data to 263hetavs.adicht_rec2.parquet (ID: 263, Genotype: Het)\n",
      "2025-10-26 15:09:42,680 - INFO - Processing '292hetavs-chrev.adicht_rec2.npy' -> '292hetavs-chrev.adicht_rec2.parquet'\n"
     ]
    },
    {
     "name": "stdout",
     "output_type": "stream",
     "text": [
      "  '263hetavs.adicht_rec2.npy' の処理が完了しました。\n",
      "---\n",
      "'265wt-rest-avs-2recs.adict0_rec2.npy' の処理を開始します...\n",
      "  [エラー] ファイルが見つかりません: G:\\マイドライブ\\ALL_EEG_pcdh15\\265wt-rest-avs-2recs.adict0_rec2.npy\n",
      "---\n",
      "'292hetavs-chrev.adicht_rec2.npy' の処理を開始します...\n"
     ]
    },
    {
     "name": "stderr",
     "output_type": "stream",
     "text": [
      "c:\\Users\\dmasu\\OneDrive\\デスクトップ\\pcdh_analyze\\src\\data_processing.py:96: FutureWarning: Downcasting object dtype arrays on .fillna, .ffill, .bfill is deprecated and will change in a future version. Call result.infer_objects(copy=False) instead. To opt-in to the future behavior, set `pd.set_option('future.no_silent_downcasting', True)`\n",
      "  stim_starts = is_stim_on & ~is_stim_on.shift(1).fillna(False)\n",
      "2025-10-26 15:10:27,668 - INFO - Saved processed data to 292hetavs-chrev.adicht_rec2.parquet (ID: 292, Genotype: Het)\n",
      "2025-10-26 15:10:28,006 - INFO - Processing '306hetavs.adicht_rec2.npy' -> '306hetavs.adicht_rec2.parquet'\n"
     ]
    },
    {
     "name": "stdout",
     "output_type": "stream",
     "text": [
      "  '292hetavs-chrev.adicht_rec2.npy' の処理が完了しました。\n",
      "---\n",
      "'306hetavs.adicht_rec2.npy' の処理を開始します...\n"
     ]
    },
    {
     "name": "stderr",
     "output_type": "stream",
     "text": [
      "c:\\Users\\dmasu\\OneDrive\\デスクトップ\\pcdh_analyze\\src\\data_processing.py:96: FutureWarning: Downcasting object dtype arrays on .fillna, .ffill, .bfill is deprecated and will change in a future version. Call result.infer_objects(copy=False) instead. To opt-in to the future behavior, set `pd.set_option('future.no_silent_downcasting', True)`\n",
      "  stim_starts = is_stim_on & ~is_stim_on.shift(1).fillna(False)\n",
      "2025-10-26 15:10:55,483 - INFO - Saved processed data to 306hetavs.adicht_rec2.parquet (ID: 306, Genotype: Het)\n",
      "2025-10-26 15:10:55,658 - INFO - Processing 'het158avs-600-599-599-extra.adicht_rec2.npy' -> 'het158avs-600-599-599-extra.adicht_rec2.parquet'\n"
     ]
    },
    {
     "name": "stdout",
     "output_type": "stream",
     "text": [
      "  '306hetavs.adicht_rec2.npy' の処理が完了しました。\n",
      "---\n",
      "'het158avs-600-599-599-extra.adicht_rec2.npy' の処理を開始します...\n"
     ]
    },
    {
     "name": "stderr",
     "output_type": "stream",
     "text": [
      "c:\\Users\\dmasu\\OneDrive\\デスクトップ\\pcdh_analyze\\src\\data_processing.py:96: FutureWarning: Downcasting object dtype arrays on .fillna, .ffill, .bfill is deprecated and will change in a future version. Call result.infer_objects(copy=False) instead. To opt-in to the future behavior, set `pd.set_option('future.no_silent_downcasting', True)`\n",
      "  stim_starts = is_stim_on & ~is_stim_on.shift(1).fillna(False)\n",
      "2025-10-26 15:11:38,029 - INFO - Saved processed data to het158avs-600-599-599-extra.adicht_rec2.parquet (ID: 158, Genotype: Het)\n",
      "2025-10-26 15:11:38,393 - INFO - Processing 'Het161avstim05int1-v-a-s-exa.adicht_rec2.npy' -> 'Het161avstim05int1-v-a-s-exa.adicht_rec2.parquet'\n"
     ]
    },
    {
     "name": "stdout",
     "output_type": "stream",
     "text": [
      "  'het158avs-600-599-599-extra.adicht_rec2.npy' の処理が完了しました。\n",
      "---\n",
      "'Het161avstim05int1-v-a-s-exa.adicht_rec2.npy' の処理を開始します...\n"
     ]
    },
    {
     "name": "stderr",
     "output_type": "stream",
     "text": [
      "c:\\Users\\dmasu\\OneDrive\\デスクトップ\\pcdh_analyze\\src\\data_processing.py:96: FutureWarning: Downcasting object dtype arrays on .fillna, .ffill, .bfill is deprecated and will change in a future version. Call result.infer_objects(copy=False) instead. To opt-in to the future behavior, set `pd.set_option('future.no_silent_downcasting', True)`\n",
      "  stim_starts = is_stim_on & ~is_stim_on.shift(1).fillna(False)\n",
      "2025-10-26 15:12:13,790 - INFO - Saved processed data to Het161avstim05int1-v-a-s-exa.adicht_rec2.parquet (ID: 161, Genotype: Het)\n",
      "2025-10-26 15:12:14,071 - INFO - Processing 'het165avstake2_rest.adicht_rec2.npy' -> 'het165avstake2_rest.adicht_rec2.parquet'\n"
     ]
    },
    {
     "name": "stdout",
     "output_type": "stream",
     "text": [
      "  'Het161avstim05int1-v-a-s-exa.adicht_rec2.npy' の処理が完了しました。\n",
      "---\n",
      "'het165avstake2_rest.adicht_rec2.npy' の処理を開始します...\n"
     ]
    },
    {
     "name": "stderr",
     "output_type": "stream",
     "text": [
      "c:\\Users\\dmasu\\OneDrive\\デスクトップ\\pcdh_analyze\\src\\data_processing.py:96: FutureWarning: Downcasting object dtype arrays on .fillna, .ffill, .bfill is deprecated and will change in a future version. Call result.infer_objects(copy=False) instead. To opt-in to the future behavior, set `pd.set_option('future.no_silent_downcasting', True)`\n",
      "  stim_starts = is_stim_on & ~is_stim_on.shift(1).fillna(False)\n",
      "2025-10-26 15:13:32,086 - INFO - Saved processed data to het165avstake2_rest.adicht_rec2.parquet (ID: 165, Genotype: Het)\n",
      "2025-10-26 15:13:32,716 - INFO - Processing 'het307visu_audi_sum.adicht_rec2.npy' -> 'het307visu_audi_sum.adicht_rec2.parquet'\n"
     ]
    },
    {
     "name": "stdout",
     "output_type": "stream",
     "text": [
      "  'het165avstake2_rest.adicht_rec2.npy' の処理が完了しました。\n",
      "---\n",
      "'het307visu_audi_sum.adicht_rec2.npy' の処理を開始します...\n"
     ]
    },
    {
     "name": "stderr",
     "output_type": "stream",
     "text": [
      "c:\\Users\\dmasu\\OneDrive\\デスクトップ\\pcdh_analyze\\src\\data_processing.py:96: FutureWarning: Downcasting object dtype arrays on .fillna, .ffill, .bfill is deprecated and will change in a future version. Call result.infer_objects(copy=False) instead. To opt-in to the future behavior, set `pd.set_option('future.no_silent_downcasting', True)`\n",
      "  stim_starts = is_stim_on & ~is_stim_on.shift(1).fillna(False)\n",
      "2025-10-26 15:13:59,739 - INFO - Saved processed data to het307visu_audi_sum.adicht_rec2.parquet (ID: 307, Genotype: Het)\n",
      "2025-10-26 15:14:00,146 - INFO - Processing 'het308avs.adicht_rec2.npy' -> 'het308avs.adicht_rec2.parquet'\n"
     ]
    },
    {
     "name": "stdout",
     "output_type": "stream",
     "text": [
      "  'het307visu_audi_sum.adicht_rec2.npy' の処理が完了しました。\n",
      "---\n",
      "'het308avs.adicht_rec2.npy' の処理を開始します...\n"
     ]
    },
    {
     "name": "stderr",
     "output_type": "stream",
     "text": [
      "c:\\Users\\dmasu\\OneDrive\\デスクトップ\\pcdh_analyze\\src\\data_processing.py:96: FutureWarning: Downcasting object dtype arrays on .fillna, .ffill, .bfill is deprecated and will change in a future version. Call result.infer_objects(copy=False) instead. To opt-in to the future behavior, set `pd.set_option('future.no_silent_downcasting', True)`\n",
      "  stim_starts = is_stim_on & ~is_stim_on.shift(1).fillna(False)\n",
      "2025-10-26 15:14:28,625 - INFO - Saved processed data to het308avs.adicht_rec2.parquet (ID: 308, Genotype: Het)\n",
      "2025-10-26 15:14:28,813 - INFO - Processing 'het309avs.adicht_rec2.npy' -> 'het309avs.adicht_rec2.parquet'\n"
     ]
    },
    {
     "name": "stdout",
     "output_type": "stream",
     "text": [
      "  'het308avs.adicht_rec2.npy' の処理が完了しました。\n",
      "---\n",
      "'het309avs.adicht_rec2.npy' の処理を開始します...\n"
     ]
    },
    {
     "name": "stderr",
     "output_type": "stream",
     "text": [
      "c:\\Users\\dmasu\\OneDrive\\デスクトップ\\pcdh_analyze\\src\\data_processing.py:96: FutureWarning: Downcasting object dtype arrays on .fillna, .ffill, .bfill is deprecated and will change in a future version. Call result.infer_objects(copy=False) instead. To opt-in to the future behavior, set `pd.set_option('future.no_silent_downcasting', True)`\n",
      "  stim_starts = is_stim_on & ~is_stim_on.shift(1).fillna(False)\n",
      "2025-10-26 15:14:56,562 - INFO - Saved processed data to het309avs.adicht_rec2.parquet (ID: 309, Genotype: Het)\n",
      "2025-10-26 15:14:56,726 - INFO - Processing 'wt156-rest1h-vs-as-avs-600-600-600.adicht_rec2.npy' -> 'wt156-rest1h-vs-as-avs-600-600-600.adicht_rec2.parquet'\n"
     ]
    },
    {
     "name": "stdout",
     "output_type": "stream",
     "text": [
      "  'het309avs.adicht_rec2.npy' の処理が完了しました。\n",
      "---\n",
      "'wt156-rest1h-vs-as-avs-600-600-600.adicht_rec2.npy' の処理を開始します...\n"
     ]
    },
    {
     "name": "stderr",
     "output_type": "stream",
     "text": [
      "c:\\Users\\dmasu\\OneDrive\\デスクトップ\\pcdh_analyze\\src\\data_processing.py:96: FutureWarning: Downcasting object dtype arrays on .fillna, .ffill, .bfill is deprecated and will change in a future version. Call result.infer_objects(copy=False) instead. To opt-in to the future behavior, set `pd.set_option('future.no_silent_downcasting', True)`\n",
      "  stim_starts = is_stim_on & ~is_stim_on.shift(1).fillna(False)\n",
      "2025-10-26 15:15:48,701 - INFO - Saved processed data to wt156-rest1h-vs-as-avs-600-600-600.adicht_rec2.parquet (ID: 156, Genotype: WT)\n",
      "2025-10-26 15:15:49,174 - INFO - Processing 'wt178-rest1h-vs-as-avs-600-600-600.adicht_rec2.npy' -> 'wt178-rest1h-vs-as-avs-600-600-600.adicht_rec2.parquet'\n"
     ]
    },
    {
     "name": "stdout",
     "output_type": "stream",
     "text": [
      "  'wt156-rest1h-vs-as-avs-600-600-600.adicht_rec2.npy' の処理が完了しました。\n",
      "---\n",
      "'wt178-rest1h-vs-as-avs-600-600-600.adicht_rec2.npy' の処理を開始します...\n"
     ]
    },
    {
     "name": "stderr",
     "output_type": "stream",
     "text": [
      "c:\\Users\\dmasu\\OneDrive\\デスクトップ\\pcdh_analyze\\src\\data_processing.py:96: FutureWarning: Downcasting object dtype arrays on .fillna, .ffill, .bfill is deprecated and will change in a future version. Call result.infer_objects(copy=False) instead. To opt-in to the future behavior, set `pd.set_option('future.no_silent_downcasting', True)`\n",
      "  stim_starts = is_stim_on & ~is_stim_on.shift(1).fillna(False)\n",
      "2025-10-26 15:17:01,855 - INFO - Saved processed data to wt178-rest1h-vs-as-avs-600-600-600.adicht_rec2.parquet (ID: 178, Genotype: WT)\n",
      "2025-10-26 15:17:02,437 - INFO - wt262avs.adicht_rec2.parquet already exists; skipping (set overwrite=True to replace)\n",
      "2025-10-26 15:17:02,511 - INFO - Processing 'wt305avs.adicht_rec2.npy' -> 'wt305avs.adicht_rec2.parquet'\n"
     ]
    },
    {
     "name": "stdout",
     "output_type": "stream",
     "text": [
      "  'wt178-rest1h-vs-as-avs-600-600-600.adicht_rec2.npy' の処理が完了しました。\n",
      "---\n",
      "'wt262avs.adicht_rec2.npy' の処理を開始します...\n",
      "  'wt262avs.adicht_rec2.npy' の処理が完了しました。\n",
      "---\n",
      "'wt305avs.adicht_rec2.npy' の処理を開始します...\n"
     ]
    },
    {
     "name": "stderr",
     "output_type": "stream",
     "text": [
      "c:\\Users\\dmasu\\OneDrive\\デスクトップ\\pcdh_analyze\\src\\data_processing.py:96: FutureWarning: Downcasting object dtype arrays on .fillna, .ffill, .bfill is deprecated and will change in a future version. Call result.infer_objects(copy=False) instead. To opt-in to the future behavior, set `pd.set_option('future.no_silent_downcasting', True)`\n",
      "  stim_starts = is_stim_on & ~is_stim_on.shift(1).fillna(False)\n",
      "2025-10-26 15:17:38,158 - INFO - Saved processed data to wt305avs.adicht_rec2.parquet (ID: 305, Genotype: WT)\n"
     ]
    },
    {
     "name": "stdout",
     "output_type": "stream",
     "text": [
      "  'wt305avs.adicht_rec2.npy' の処理が完了しました。\n",
      "---\n",
      "\n",
      "全処理が完了しました！\n",
      "  成功: 14 ファイル\n",
      "  エラー/スキップ: 2 ファイル\n"
     ]
    }
   ],
   "source": [
    "# --- ユーザーの環境で定義済みと仮定 ---\n",
    "# import _init_notebook\n",
    "# from src.config import DATA_DIR, PROCESSED_DIR\n",
    "# from your_module import create_processed_file \n",
    "# ------------------------------------\n",
    "\n",
    "# 処理対象のファイル名リスト\n",
    "target_filenames = [\n",
    "    '197hetERP.adict_rec2.npy',\n",
    "    '256wtvas.adicht_rec2.npy',\n",
    "    '263hetavs.adicht_rec2.npy',\n",
    "    '265wt-rest-avs-2recs.adict0_rec2.npy',\n",
    "    '292hetavs-chrev.adicht_rec2.npy',\n",
    "    '306hetavs.adicht_rec2.npy',\n",
    "    'het158avs-600-599-599-extra.adicht_rec2.npy',\n",
    "    'Het161avstim05int1-v-a-s-exa.adicht_rec2.npy',\n",
    "    'het165avstake2_rest.adicht_rec2.npy',\n",
    "    'het307visu_audi_sum.adicht_rec2.npy',\n",
    "    'het308avs.adicht_rec2.npy',\n",
    "    'het309avs.adicht_rec2.npy',\n",
    "    'wt156-rest1h-vs-as-avs-600-600-600.adicht_rec2.npy',\n",
    "    'wt178-rest1h-vs-as-avs-600-600-600.adicht_rec2.npy',\n",
    "    'wt262avs.adicht_rec2.npy',\n",
    "    'wt305avs.adicht_rec2.npy'\n",
    "]\n",
    "\n",
    "# 処理済みデータを保存するディレクトリがなければ作成\n",
    "PROCESSED_DIR.mkdir(parents=True, exist_ok=True)\n",
    "\n",
    "print(f\"処理を開始します。対象ファイル数: {len(target_filenames)}\")\n",
    "print(\"---\")\n",
    "\n",
    "processed_count = 0\n",
    "error_count = 0\n",
    "\n",
    "# リスト内の各ファイル名をループ処理\n",
    "for target_filename in target_filenames:\n",
    "    print(f\"'{target_filename}' の処理を開始します...\")\n",
    "\n",
    "    # 処理対象ファイルのフルパスを作成\n",
    "    target_filepath = DATA_DIR / target_filename\n",
    "\n",
    "    # ファイルが存在するかチェック\n",
    "    if not target_filepath.exists():\n",
    "        print(f\"  [エラー] ファイルが見つかりません: {target_filepath}\")\n",
    "        error_count += 1\n",
    "    else:\n",
    "        try:\n",
    "            # 指定したファイルを処理\n",
    "            create_processed_file(target_filename, PROCESSED_DIR)\n",
    "            print(f\"  '{target_filename}' の処理が完了しました。\")\n",
    "            processed_count += 1\n",
    "        except Exception as e:\n",
    "            print(f\"  [エラー] '{target_filename}' の処理中に例外が発生しました: {e}\")\n",
    "            error_count += 1\n",
    "    \n",
    "    print(\"---\")\n",
    "\n",
    "print(f\"\\n全処理が完了しました！\")\n",
    "print(f\"  成功: {processed_count} ファイル\")\n",
    "print(f\"  エラー/スキップ: {error_count} ファイル\")"
   ]
  }
 ],
 "metadata": {
  "kernelspec": {
   "display_name": "Python (pcdh-analyze)",
   "language": "python",
   "name": "pcdh-venv"
  },
  "language_info": {
   "codemirror_mode": {
    "name": "ipython",
    "version": 3
   },
   "file_extension": ".py",
   "mimetype": "text/x-python",
   "name": "python",
   "nbconvert_exporter": "python",
   "pygments_lexer": "ipython3",
   "version": "3.11.9"
  }
 },
 "nbformat": 4,
 "nbformat_minor": 5
}
