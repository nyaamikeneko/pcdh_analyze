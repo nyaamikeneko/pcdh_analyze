{
 "cells": [
  {
   "cell_type": "code",
   "execution_count": 1,
   "id": "f24b4db4",
   "metadata": {},
   "outputs": [
    {
     "name": "stdout",
     "output_type": "stream",
     "text": [
      "'wt262avs.adicht_rec2.npy' の処理を開始します...\n",
      "DATA_DIR: G:\\マイドライブ\\ALL_EEG_pdch15\n",
      "ファイルパス: G:\\マイドライブ\\ALL_EEG_pdch15\\wt262avs.adicht_rec2.npy\n",
      "ファイル存在確認: True\n",
      "'wt262avs.adicht_rec2.npy' を処理中...\n"
     ]
    },
    {
     "name": "stderr",
     "output_type": "stream",
     "text": [
      "c:\\Users\\dmasu\\OneDrive\\デスクトップ\\pcdh_analyze\\notebooks\\..\\src\\data_processing.py:25: FutureWarning: Downcasting object dtype arrays on .fillna, .ffill, .bfill is deprecated and will change in a future version. Call result.infer_objects(copy=False) instead. To opt-in to the future behavior, set `pd.set_option('future.no_silent_downcasting', True)`\n",
      "  stim_starts = is_stim_on & ~is_stim_on.shift(1).fillna(False)\n"
     ]
    },
    {
     "name": "stdout",
     "output_type": "stream",
     "text": [
      "  -> 'wt262avs.adicht_rec2.parquet' として保存しました。\n",
      "\n",
      "処理が完了しました！\n"
     ]
    }
   ],
   "source": [
    "\n",
    "import sys\n",
    "from pathlib import Path\n",
    "\n",
    "# プロジェクトルートをパスに追加\n",
    "sys.path.append('..')\n",
    "\n",
    "# srcから関数をインポート\n",
    "from src.data_processing import create_processed_file\n",
    "from src.config import DATA_DIR\n",
    "# --- 設定 ---\n",
    "# 処理したいファイル名を指定\n",
    "target_filename = 'wt262avs.adicht_rec2.npy'\n",
    "\n",
    "# 処理済みデータを保存するディレクトリ\n",
    "PROCESSED_DIR = Path('../data/processed')\n",
    "PROCESSED_DIR.mkdir(parents=True, exist_ok=True) # ディレクトリがなければ作成\n",
    "\n",
    "# --- 実行 ---\n",
    "# 指定したファイル一つだけを処理します\n",
    "print(f\"'{target_filename}' の処理を開始します...\")\n",
    "# --- デバッグ用 ---\n",
    "print(f\"DATA_DIR: {DATA_DIR}\")\n",
    "print(f\"ファイルパス: {DATA_DIR / target_filename}\")\n",
    "print(f\"ファイル存在確認: {(DATA_DIR / target_filename).exists()}\")\n",
    "create_processed_file(target_filename, PROCESSED_DIR)\n",
    "\n",
    "print(\"\\n処理が完了しました！\")"
   ]
  },
  {
   "cell_type": "code",
   "execution_count": null,
   "id": "c7984cb0",
   "metadata": {},
   "outputs": [],
   "source": []
  },
  {
   "cell_type": "code",
   "execution_count": null,
   "id": "33902f47",
   "metadata": {},
   "outputs": [],
   "source": []
  }
 ],
 "metadata": {
  "kernelspec": {
   "display_name": "Python (pcdh-analyze)",
   "language": "python",
   "name": "pcdh-venv"
  },
  "language_info": {
   "codemirror_mode": {
    "name": "ipython",
    "version": 3
   },
   "file_extension": ".py",
   "mimetype": "text/x-python",
   "name": "python",
   "nbconvert_exporter": "python",
   "pygments_lexer": "ipython3",
   "version": "3.11.9"
  }
 },
 "nbformat": 4,
 "nbformat_minor": 5
}
