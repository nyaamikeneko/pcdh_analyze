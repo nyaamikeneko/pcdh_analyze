{
 "cells": [
  {
   "cell_type": "code",
   "execution_count": 1,
   "id": "5e9616be",
   "metadata": {},
   "outputs": [
    {
     "name": "stdout",
     "output_type": "stream",
     "text": [
      "DataFrameの先頭5行:\n"
     ]
    },
    {
     "data": {
      "text/html": [
       "<div>\n",
       "<style scoped>\n",
       "    .dataframe tbody tr th:only-of-type {\n",
       "        vertical-align: middle;\n",
       "    }\n",
       "\n",
       "    .dataframe tbody tr th {\n",
       "        vertical-align: top;\n",
       "    }\n",
       "\n",
       "    .dataframe thead th {\n",
       "        text-align: right;\n",
       "    }\n",
       "</style>\n",
       "<table border=\"1\" class=\"dataframe\">\n",
       "  <thead>\n",
       "    <tr style=\"text-align: right;\">\n",
       "      <th></th>\n",
       "      <th>PFC</th>\n",
       "      <th>PPC</th>\n",
       "      <th>A1</th>\n",
       "      <th>V1</th>\n",
       "      <th>Stimulus</th>\n",
       "      <th>Time_s</th>\n",
       "      <th>PFC_filtered</th>\n",
       "      <th>PPC_filtered</th>\n",
       "      <th>A1_filtered</th>\n",
       "      <th>V1_filtered</th>\n",
       "      <th>Event_ID</th>\n",
       "      <th>Stimulus_Type</th>\n",
       "    </tr>\n",
       "  </thead>\n",
       "  <tbody>\n",
       "    <tr>\n",
       "      <th>0</th>\n",
       "      <td>63.68750</td>\n",
       "      <td>-48.06250</td>\n",
       "      <td>-76.906250</td>\n",
       "      <td>-55.328125</td>\n",
       "      <td>-0.000312</td>\n",
       "      <td>0.000</td>\n",
       "      <td>-9.687126</td>\n",
       "      <td>-29.744644</td>\n",
       "      <td>-29.668319</td>\n",
       "      <td>-31.102712</td>\n",
       "      <td>0</td>\n",
       "      <td>No_Stimulus</td>\n",
       "    </tr>\n",
       "    <tr>\n",
       "      <th>1</th>\n",
       "      <td>42.40625</td>\n",
       "      <td>-50.87500</td>\n",
       "      <td>-80.546875</td>\n",
       "      <td>-57.750000</td>\n",
       "      <td>-0.000312</td>\n",
       "      <td>0.001</td>\n",
       "      <td>-16.177164</td>\n",
       "      <td>-31.208505</td>\n",
       "      <td>-31.960842</td>\n",
       "      <td>-31.552850</td>\n",
       "      <td>0</td>\n",
       "      <td>No_Stimulus</td>\n",
       "    </tr>\n",
       "    <tr>\n",
       "      <th>2</th>\n",
       "      <td>31.43750</td>\n",
       "      <td>-70.71875</td>\n",
       "      <td>-99.937500</td>\n",
       "      <td>-82.546875</td>\n",
       "      <td>-0.000312</td>\n",
       "      <td>0.002</td>\n",
       "      <td>-22.393838</td>\n",
       "      <td>-32.559073</td>\n",
       "      <td>-34.101970</td>\n",
       "      <td>-31.901094</td>\n",
       "      <td>0</td>\n",
       "      <td>No_Stimulus</td>\n",
       "    </tr>\n",
       "    <tr>\n",
       "      <th>3</th>\n",
       "      <td>30.37500</td>\n",
       "      <td>-44.06250</td>\n",
       "      <td>-70.140625</td>\n",
       "      <td>-49.937500</td>\n",
       "      <td>-0.000312</td>\n",
       "      <td>0.003</td>\n",
       "      <td>-28.047092</td>\n",
       "      <td>-33.677845</td>\n",
       "      <td>-35.946312</td>\n",
       "      <td>-32.045870</td>\n",
       "      <td>0</td>\n",
       "      <td>No_Stimulus</td>\n",
       "    </tr>\n",
       "    <tr>\n",
       "      <th>4</th>\n",
       "      <td>-4.53125</td>\n",
       "      <td>-58.40625</td>\n",
       "      <td>-88.937500</td>\n",
       "      <td>-58.468750</td>\n",
       "      <td>0.000000</td>\n",
       "      <td>0.004</td>\n",
       "      <td>-32.896286</td>\n",
       "      <td>-34.466580</td>\n",
       "      <td>-37.366260</td>\n",
       "      <td>-31.903339</td>\n",
       "      <td>0</td>\n",
       "      <td>No_Stimulus</td>\n",
       "    </tr>\n",
       "  </tbody>\n",
       "</table>\n",
       "</div>"
      ],
      "text/plain": [
       "        PFC       PPC         A1         V1  Stimulus  Time_s  PFC_filtered  \\\n",
       "0  63.68750 -48.06250 -76.906250 -55.328125 -0.000312   0.000     -9.687126   \n",
       "1  42.40625 -50.87500 -80.546875 -57.750000 -0.000312   0.001    -16.177164   \n",
       "2  31.43750 -70.71875 -99.937500 -82.546875 -0.000312   0.002    -22.393838   \n",
       "3  30.37500 -44.06250 -70.140625 -49.937500 -0.000312   0.003    -28.047092   \n",
       "4  -4.53125 -58.40625 -88.937500 -58.468750  0.000000   0.004    -32.896286   \n",
       "\n",
       "   PPC_filtered  A1_filtered  V1_filtered  Event_ID Stimulus_Type  \n",
       "0    -29.744644   -29.668319   -31.102712         0   No_Stimulus  \n",
       "1    -31.208505   -31.960842   -31.552850         0   No_Stimulus  \n",
       "2    -32.559073   -34.101970   -31.901094         0   No_Stimulus  \n",
       "3    -33.677845   -35.946312   -32.045870         0   No_Stimulus  \n",
       "4    -34.466580   -37.366260   -31.903339         0   No_Stimulus  "
      ]
     },
     "metadata": {},
     "output_type": "display_data"
    },
    {
     "name": "stdout",
     "output_type": "stream",
     "text": [
      "\n",
      "DataFrameの基本情報:\n",
      "<class 'pandas.core.frame.DataFrame'>\n",
      "RangeIndex: 4240450 entries, 0 to 4240449\n",
      "Data columns (total 12 columns):\n",
      " #   Column         Dtype  \n",
      "---  ------         -----  \n",
      " 0   PFC            float32\n",
      " 1   PPC            float32\n",
      " 2   A1             float32\n",
      " 3   V1             float32\n",
      " 4   Stimulus       float32\n",
      " 5   Time_s         float64\n",
      " 6   PFC_filtered   float64\n",
      " 7   PPC_filtered   float64\n",
      " 8   A1_filtered    float64\n",
      " 9   V1_filtered    float64\n",
      " 10  Event_ID       int64  \n",
      " 11  Stimulus_Type  object \n",
      "dtypes: float32(5), float64(5), int64(1), object(1)\n",
      "memory usage: 307.3+ MB\n"
     ]
    },
    {
     "data": {
      "text/plain": [
       "None"
      ]
     },
     "metadata": {},
     "output_type": "display_data"
    }
   ],
   "source": [
    "import pandas as pd\n",
    "import numpy as np\n",
    "import matplotlib.pyplot as plt\n",
    "import os\n",
    "import japanize_matplotlib\n",
    "from pathlib import Path\n",
    "\n",
    "# 現在のノートブックからの相対パスを絶対パスに変換\n",
    "notebook_dir = Path(os.path.abspath('')).parent\n",
    "data_path = notebook_dir / 'data' / 'processed' / 'wt262avs.adicht_rec2.parquet'\n",
    "\n",
    "# データの読み込み\n",
    "df = pd.read_parquet(data_path)\n",
    "\n",
    "# データの先頭を表示\n",
    "print(\"DataFrameの先頭5行:\")\n",
    "display(df.head())\n",
    "\n",
    "# データの基本情報を表示\n",
    "print(\"\\nDataFrameの基本情報:\")\n",
    "display(df.info())"
   ]
  },
  {
   "cell_type": "code",
   "execution_count": 10,
   "id": "d2a16e28",
   "metadata": {},
   "outputs": [
    {
     "name": "stdout",
     "output_type": "stream",
     "text": [
      "Stimulus_TypeごとのEvent_IDのユニークな数:\n"
     ]
    },
    {
     "data": {
      "text/plain": [
       "Stimulus_Type\n",
       "Light          600\n",
       "Light+Sound    600\n",
       "No_Stimulus      2\n",
       "Sound          600\n",
       "Name: Event_ID, dtype: int64"
      ]
     },
     "metadata": {},
     "output_type": "display_data"
    }
   ],
   "source": [
    "# Stimulus_TypeごとのEvent_IDのユニークな数を計算\n",
    "unique_event_counts = df.groupby('Stimulus_Type')['Event_ID'].nunique()\n",
    "\n",
    "# 結果を表示\n",
    "print(\"Stimulus_TypeごとのEvent_IDのユニークな数:\")\n",
    "display(unique_event_counts)"
   ]
  },
  {
   "cell_type": "code",
   "execution_count": null,
   "id": "a25331eb",
   "metadata": {},
   "outputs": [],
   "source": []
  }
 ],
 "metadata": {
  "kernelspec": {
   "display_name": "Python (pcdh-analyze)",
   "language": "python",
   "name": "pcdh-venv"
  },
  "language_info": {
   "codemirror_mode": {
    "name": "ipython",
    "version": 3
   },
   "file_extension": ".py",
   "mimetype": "text/x-python",
   "name": "python",
   "nbconvert_exporter": "python",
   "pygments_lexer": "ipython3",
   "version": "3.11.9"
  }
 },
 "nbformat": 4,
 "nbformat_minor": 5
}
