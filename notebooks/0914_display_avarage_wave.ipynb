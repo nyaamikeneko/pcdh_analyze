{
 "cells": [
  {
   "cell_type": "code",
   "execution_count": null,
   "id": "b814b758",
   "metadata": {},
   "outputs": [],
   "source": [
    "import matplotlib.pyplot as plt\n",
    "\n",
    "# 平均波形を計算（例: 'stimulus'列でグループ化し、'waveform'列の平均を算出）\n",
    "# dfは既に定義されていると仮定\n",
    "average_waveform = df.groupby('stimulus')['waveform'].mean()\n",
    "\n",
    "# 平均波形をプロット\n",
    "plt.figure(figsize=(8, 4))\n",
    "plt.plot(average_waveform.index, average_waveform.values)\n",
    "plt.xlabel('刺激提示')\n",
    "plt.ylabel('平均波形')\n",
    "plt.title('刺激提示時の平均波形')\n",
    "plt.show()"
   ]
  },
  {
   "cell_type": "code",
   "execution_count": 3,
   "id": "7b4b66ed",
   "metadata": {},
   "outputs": [
    {
     "ename": "NameError",
     "evalue": "name 'eeg_data' is not defined",
     "output_type": "error",
     "traceback": [
      "\u001b[1;31m---------------------------------------------------------------------------\u001b[0m",
      "\u001b[1;31mNameError\u001b[0m                                 Traceback (most recent call last)",
      "Cell \u001b[1;32mIn[3], line 11\u001b[0m\n\u001b[0;32m      9\u001b[0m \u001b[38;5;66;03m# dfは既に定義されていると仮定\u001b[39;00m\n\u001b[0;32m     10\u001b[0m chunk_size \u001b[38;5;241m=\u001b[39m \u001b[38;5;241m600\u001b[39m\n\u001b[1;32m---> 11\u001b[0m chunks \u001b[38;5;241m=\u001b[39m split_into_chunks(\u001b[43meeg_data\u001b[49m, chunk_size)\n\u001b[0;32m     13\u001b[0m \u001b[38;5;66;03m# 各チャンクごとに平均波形を計算してプロット\u001b[39;00m\n\u001b[0;32m     14\u001b[0m plt\u001b[38;5;241m.\u001b[39mfigure(figsize\u001b[38;5;241m=\u001b[39m(\u001b[38;5;241m12\u001b[39m, \u001b[38;5;241m8\u001b[39m))\n",
      "\u001b[1;31mNameError\u001b[0m: name 'eeg_data' is not defined"
     ]
    }
   ],
   "source": [
    "import matplotlib.pyplot as plt\n",
    "import pandas as pd\n",
    "\n",
    "# 刺激データを600回ごとに分割\n",
    "def split_into_chunks(df, chunk_size):\n",
    "    num_chunks = len(df) // chunk_size\n",
    "    return [df.iloc[i * chunk_size:(i + 1) * chunk_size] for i in range(num_chunks)]\n",
    "\n",
    "# dfは既に定義されていると仮定\n",
    "chunk_size = 600\n",
    "chunks = split_into_chunks(eeg_data, chunk_size)\n",
    "\n",
    "# 各チャンクごとに平均波形を計算してプロット\n",
    "plt.figure(figsize=(12, 8))\n",
    "for i, chunk in enumerate(chunks):\n",
    "    average_waveform = chunk.groupby('stimulus')['waveform'].mean()\n",
    "    plt.plot(average_waveform.index, average_waveform.values, label=f'Chunk {i + 1}')\n",
    "\n",
    "plt.xlabel('刺激提示')\n",
    "plt.ylabel('平均波形')\n",
    "plt.title('600回ごとの刺激提示時の平均波形')\n",
    "plt.legend()\n",
    "plt.show()"
   ]
  },
  {
   "cell_type": "code",
   "execution_count": null,
   "id": "c20bc49e",
   "metadata": {},
   "outputs": [],
   "source": []
  }
 ],
 "metadata": {
  "kernelspec": {
   "display_name": "Python 3",
   "language": "python",
   "name": "python3"
  },
  "language_info": {
   "codemirror_mode": {
    "name": "ipython",
    "version": 3
   },
   "file_extension": ".py",
   "mimetype": "text/x-python",
   "name": "python",
   "nbconvert_exporter": "python",
   "pygments_lexer": "ipython3",
   "version": "3.11.9"
  }
 },
 "nbformat": 4,
 "nbformat_minor": 5
}
